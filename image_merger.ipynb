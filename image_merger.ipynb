{
 "cells": [
  {
   "cell_type": "code",
   "execution_count": null,
   "metadata": {},
   "outputs": [
    {
     "name": "stderr",
     "output_type": "stream",
     "text": [
      "/snap/core20/current/lib/x86_64-linux-gnu/libstdc++.so.6: version `GLIBCXX_3.4.29' not found (required by /lib/x86_64-linux-gnu/libproxy.so.1)\n",
      "Failed to load module: /home/adarsh/snap/code/common/.cache/gio-modules/libgiolibproxy.so\n",
      "eog: symbol lookup error: /snap/core20/current/lib/x86_64-linux-gnu/libpthread.so.0: undefined symbol: __libc_pthread_init, version GLIBC_PRIVATE\n"
     ]
    }
   ],
   "source": [
    "from PIL import Image\n",
    "\n",
    "# Assuming you have uploaded an image named 'uploaded_image.jpg'\n",
    "uploaded_image_path = 'generated_image.png'\n",
    "\n",
    "# Load the uploaded image\n",
    "uploaded_img = Image.open(uploaded_image_path)\n",
    "\n",
    "# Generate an image with your AI model (this step depends on your model)\n",
    "# For example, generate a placeholder image here\n",
    "# Replace this with the actual code to generate an image using your AI model\n",
    "width = 400\n",
    "height = 400\n",
    "generated_image = Image.new('RGB', (width, height), color='white')\n",
    "\n",
    "# Resize the generated image to match the uploaded image size\n",
    "generated_image = generated_image.resize(uploaded_img.size)\n",
    "\n",
    "# Merge the uploaded image with the generated image\n",
    "merged_image = Image.blend(uploaded_img, generated_image, alpha=0.5)  # Adjust alpha as needed for blending\n",
    "\n",
    "# Save or display the merged image\n",
    "merged_image.show()  # Display the merged image\n",
    "# merged_image.save('path_to_save/merged_image.jpg')  # Save the merged image"
   ]
  },
  {
   "cell_type": "code",
   "execution_count": null,
   "metadata": {},
   "outputs": [],
   "source": []
  },
  {
   "cell_type": "code",
   "execution_count": 6,
   "metadata": {},
   "outputs": [
    {
     "name": "stdout",
     "output_type": "stream",
     "text": [
      "Requirement already satisfied: PILLOW in c:\\users\\vighnesh\\appdata\\local\\programs\\python\\python312\\lib\\site-packages (10.1.0)\n"
     ]
    }
   ],
   "source": [
    "!pip install PILLOW\n",
    "from PIL import Image, ImageDraw, ImageFont\n",
    "\n",
    "# Assuming you have generated an image named 'generated_image.jpg'\n",
    "generated_image_path = 'generated_image.png'\n",
    "\n",
    "# Open the generated image\n",
    "generated_img = Image.open(generated_image_path)\n",
    "\n",
    "# Create a drawing context to add text on the image\n",
    "draw = ImageDraw.Draw(generated_img)\n",
    "\n",
    "# Define text content, font, size, and color\n",
    "text_content = \"Thakur\"\n",
    "font_path = \"font.ttf\"  # Replace with the path to your font file\n",
    "font_size = 50\n",
    "text_color = (255, 255, 255)  # White color\n",
    "\n",
    "# Load the font\n",
    "font = ImageFont.truetype(font_path, font_size)\n",
    "\n",
    "# Define text position (adjust coordinates as needed)\n",
    "text_position = (300, 300)  # Coordinates (x, y) where you want to place the text\n",
    "\n",
    "# Add text to the image\n",
    "draw.text(text_position, text_content, fill=text_color, font=font)\n",
    "\n",
    "# Save or display the image with added text\n",
    "generated_img.show()  # Display the image with added text\n",
    "# generated_img.save('path_to_save/image_with_text.jpg')  # Save the image with added text"
   ]
  },
  {
   "cell_type": "code",
   "execution_count": null,
   "metadata": {},
   "outputs": [],
   "source": [
    "\n",
    "\n",
    "\n",
    "\n",
    "\n",
    "\n",
    "\n",
    "\n",
    "\n",
    "\n",
    "\n",
    "\n",
    "\n",
    "\n",
    "\n",
    "\n",
    "\n",
    "\n",
    "\n",
    "\n",
    "\n",
    "\n",
    "\n",
    "\n",
    "\n",
    "\n",
    "\n",
    "\n",
    "\n",
    "\n",
    "\n",
    "\n",
    "\n",
    "\n",
    "\n",
    "\n",
    "\n",
    "\n",
    "\n",
    "\n",
    "\n",
    "\n",
    "\n",
    "\n",
    "\n",
    "\n",
    "\n",
    "\n",
    "\n",
    "\n",
    "\n",
    "\n"
   ]
  }
 ],
 "metadata": {
  "kernelspec": {
   "display_name": "Python 3",
   "language": "python",
   "name": "python3"
  },
  "language_info": {
   "codemirror_mode": {
    "name": "ipython",
    "version": 3
   },
   "file_extension": ".py",
   "mimetype": "text/x-python",
   "name": "python",
   "nbconvert_exporter": "python",
   "pygments_lexer": "ipython3",
   "version": "3.12.0"
  }
 },
 "nbformat": 4,
 "nbformat_minor": 2
}
