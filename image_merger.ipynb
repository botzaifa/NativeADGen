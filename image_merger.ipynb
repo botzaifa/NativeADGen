{
 "cells": [
  {
   "cell_type": "code",
   "execution_count": 1,
   "metadata": {},
   "outputs": [],
   "source": [
    "from PIL import Image\n",
    "\n",
    "# Assuming you have uploaded an image named 'uploaded_image.jpg'\n",
    "uploaded_image_path = 'generated_image.png'\n",
    "\n",
    "# Load the uploaded image\n",
    "uploaded_img = Image.open(uploaded_image_path)\n",
    "\n",
    "# Generate an image with your AI model (this step depends on your model)\n",
    "# For example, generate a placeholder image here\n",
    "# Replace this with the actual code to generate an image using your AI model\n",
    "width = 400\n",
    "height = 400\n",
    "generated_image = Image.new('RGB', (width, height), color='white')\n",
    "\n",
    "# Resize the generated image to match the uploaded image size\n",
    "generated_image = generated_image.resize(uploaded_img.size)\n",
    "\n",
    "# Merge the uploaded image with the generated image\n",
    "merged_image = Image.blend(uploaded_img, generated_image, alpha=0.5)  # Adjust alpha as needed for blending\n",
    "\n",
    "# Save or display the merged image\n",
    "merged_image.show()  # Display the merged image\n",
    "# merged_image.save('path_to_save/merged_image.jpg')  # Save the merged image"
   ]
  },
  {
   "cell_type": "code",
   "execution_count": null,
   "metadata": {},
   "outputs": [],
   "source": []
  },
  {
   "cell_type": "code",
   "execution_count": 4,
   "metadata": {},
   "outputs": [
    {
     "name": "stdout",
     "output_type": "stream",
     "text": [
      "Requirement already satisfied: PILLOW in c:\\users\\vighnesh\\appdata\\local\\programs\\python\\python312\\lib\\site-packages (10.1.0)\n",
      "Note: you may need to restart the kernel to use updated packages.\n"
     ]
    }
   ],
   "source": [
    "pip install PILLOW"
   ]
  },
  {
   "cell_type": "code",
   "execution_count": 3,
   "metadata": {},
   "outputs": [
    {
     "name": "stdout",
     "output_type": "stream",
     "text": [
      "Requirement already satisfied: PILLOW in c:\\users\\vighnesh\\appdata\\local\\programs\\python\\python312\\lib\\site-packages (10.1.0)\n"
     ]
    }
   ],
   "source": [
    "\n",
    "from PIL import Image, ImageDraw, ImageFont\n",
    "\n",
    "def image_text_merger(img , text):\n",
    "# Assuming you have generated an image named 'generated_image.jpg'\n",
    " generated_image_path = 'generated_image.png'\n",
    "\n",
    "# Open the generated image\n",
    " generated_img = Image.open(generated_image_path)\n",
    "\n",
    "# Create a drawing context to add text on the image\n",
    " draw = ImageDraw.Draw(generated_img)\n",
    "\n",
    "# Define text content, font, size, and color\n",
    " text_content = \"Thakur\"\n",
    " text_content2=\"Vighnesh\"\n",
    " font_path = \"font.ttf\"  # Replace with the path to your font file\n",
    " font_size = 50\n",
    " text_color = (255, 255, 255)  # White color\n",
    "\n",
    "# Load the font\n",
    " font = ImageFont.truetype(font_path, font_size)\n",
    "\n",
    "# Define text position (adjust coordinates as needed)\n",
    " text_position = (50, 30)  # Coordinates (x, y) where you want to place the text\n",
    " text_position2 = (150, 130)\n",
    "\n",
    "# Add text to the image\n",
    " draw.text(text_position, text_content, fill=text_color, font=font)\n",
    " draw.text(text_position2, text_content2, fill=text_color, font=font)\n",
    "\n",
    "# Save or display the image with added text\n",
    " generated_img.show()  # Display the image with added text\n",
    "# generated_img.save('path_to_save/image_with_text.jpg')  # Save the image with added text"
   ]
  },
  {
   "cell_type": "code",
   "execution_count": null,
   "metadata": {},
   "outputs": [],
   "source": []
  }
 ],
 "metadata": {
  "kernelspec": {
   "display_name": "Python 3",
   "language": "python",
   "name": "python3"
  },
  "language_info": {
   "codemirror_mode": {
    "name": "ipython",
    "version": 3
   },
   "file_extension": ".py",
   "mimetype": "text/x-python",
   "name": "python",
   "nbconvert_exporter": "python",
   "pygments_lexer": "ipython3",
   "version": "3.12.0"
  }
 },
 "nbformat": 4,
 "nbformat_minor": 2
}
